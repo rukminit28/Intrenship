{
  "nbformat": 4,
  "nbformat_minor": 0,
  "metadata": {
    "colab": {
      "name": "Untitled8.ipynb",
      "version": "0.3.2",
      "provenance": [],
      "collapsed_sections": [],
      "include_colab_link": true
    },
    "kernelspec": {
      "name": "python3",
      "display_name": "Python 3"
    }
  },
  "cells": [
    {
      "cell_type": "markdown",
      "metadata": {
        "id": "view-in-github",
        "colab_type": "text"
      },
      "source": [
        "<a href=\"https://colab.research.google.com/github/rukminit28/Intrenship/blob/master/scikit%20learn.ipynb\" target=\"_parent\"><img src=\"https://colab.research.google.com/assets/colab-badge.svg\" alt=\"Open In Colab\"/></a>"
      ]
    },
    {
      "cell_type": "code",
      "metadata": {
        "id": "14tHN25jfBeT",
        "colab_type": "code",
        "colab": {}
      },
      "source": [
        "import numpy as np  #Import NumPy and Scikit learn\n",
        "from sklearn.preprocessing import MinMaxScaler"
      ],
      "execution_count": 0,
      "outputs": []
    },
    {
      "cell_type": "code",
      "metadata": {
        "id": "3ts83BA9lLCz",
        "colab_type": "code",
        "outputId": "491186f9-d54d-4552-858a-642160e8c675",
        "colab": {
          "base_uri": "https://localhost:8080/",
          "height": 187
        }
      },
      "source": [
        "demoData = np.random.randint(10, 100, (10 ,2))                             #Create a demo data using NumPy\n",
        "demoData"
      ],
      "execution_count": 0,
      "outputs": [
        {
          "output_type": "execute_result",
          "data": {
            "text/plain": [
              "array([[44, 51],\n",
              "       [59, 53],\n",
              "       [86, 65],\n",
              "       [79, 35],\n",
              "       [28, 51],\n",
              "       [72, 78],\n",
              "       [77, 10],\n",
              "       [42, 96],\n",
              "       [86, 64],\n",
              "       [32, 18]])"
            ]
          },
          "metadata": {
            "tags": []
          },
          "execution_count": 2
        }
      ]
    },
    {
      "cell_type": "code",
      "metadata": {
        "id": "OjvpFglAlSFY",
        "colab_type": "code",
        "outputId": "81668355-6870-4203-b71e-9347d484fa98",
        "colab": {
          "base_uri": "https://localhost:8080/",
          "height": 187
        }
      },
      "source": [
        "scalar_model = MinMaxScaler()                                         #Let’s transform data\n",
        "scalar_model.fit_transform(demoData)"
      ],
      "execution_count": 0,
      "outputs": [
        {
          "output_type": "execute_result",
          "data": {
            "text/plain": [
              "array([[0.27586207, 0.47674419],\n",
              "       [0.53448276, 0.5       ],\n",
              "       [1.        , 0.63953488],\n",
              "       [0.87931034, 0.29069767],\n",
              "       [0.        , 0.47674419],\n",
              "       [0.75862069, 0.79069767],\n",
              "       [0.84482759, 0.        ],\n",
              "       [0.24137931, 1.        ],\n",
              "       [1.        , 0.62790698],\n",
              "       [0.06896552, 0.09302326]])"
            ]
          },
          "metadata": {
            "tags": []
          },
          "execution_count": 3
        }
      ]
    },
    {
      "cell_type": "code",
      "metadata": {
        "id": "DClSLgNVmqOp",
        "colab_type": "code",
        "outputId": "bac49921-ec58-40d9-d456-970908438aca",
        "colab": {
          "base_uri": "https://localhost:8080/",
          "height": 357
        }
      },
      "source": [
        "import numpy as np\n",
        "from sklearn.preprocessing import MinMaxScaler\n",
        "demoData=np.random.randint(1,500, (20,4))\n",
        "demoData"
      ],
      "execution_count": 0,
      "outputs": [
        {
          "output_type": "execute_result",
          "data": {
            "text/plain": [
              "array([[401, 131,  71, 286],\n",
              "       [ 80,  62, 482, 490],\n",
              "       [358, 375, 131, 282],\n",
              "       [448, 349, 344, 448],\n",
              "       [219, 136,  42,  26],\n",
              "       [358, 261, 374, 241],\n",
              "       [ 35,  70, 295, 435],\n",
              "       [170,  14,  58, 313],\n",
              "       [174,  30, 294,  44],\n",
              "       [366, 470,  44, 139],\n",
              "       [460, 286, 266, 479],\n",
              "       [365, 162, 353, 228],\n",
              "       [495, 131, 382, 154],\n",
              "       [ 84, 377, 101,  27],\n",
              "       [246, 132, 334, 130],\n",
              "       [ 92, 370, 116, 150],\n",
              "       [410, 413,  77, 336],\n",
              "       [348, 399,  16, 448],\n",
              "       [439, 411,  10, 186],\n",
              "       [409, 492,  61, 241]])"
            ]
          },
          "metadata": {
            "tags": []
          },
          "execution_count": 17
        }
      ]
    },
    {
      "cell_type": "code",
      "metadata": {
        "id": "Oe2NgdjLl7Vj",
        "colab_type": "code",
        "outputId": "138964ea-8d44-45d1-8278-6cc9ab2e719a",
        "colab": {
          "base_uri": "https://localhost:8080/",
          "height": 357
        }
      },
      "source": [
        "scalar_model = MinMaxScaler()                                           #create dataframe\n",
        "feature_data = scalar_model.fit_transform(demoData)\n",
        "feature_data"
      ],
      "execution_count": 0,
      "outputs": [
        {
          "output_type": "execute_result",
          "data": {
            "text/plain": [
              "array([[0.79565217, 0.24476987, 0.12923729, 0.56034483],\n",
              "       [0.09782609, 0.10041841, 1.        , 1.        ],\n",
              "       [0.70217391, 0.75523013, 0.25635593, 0.55172414],\n",
              "       [0.89782609, 0.70083682, 0.70762712, 0.90948276],\n",
              "       [0.4       , 0.25523013, 0.06779661, 0.        ],\n",
              "       [0.70217391, 0.5167364 , 0.77118644, 0.46336207],\n",
              "       [0.        , 0.11715481, 0.60381356, 0.88146552],\n",
              "       [0.29347826, 0.        , 0.10169492, 0.61853448],\n",
              "       [0.30217391, 0.0334728 , 0.60169492, 0.0387931 ],\n",
              "       [0.71956522, 0.9539749 , 0.0720339 , 0.24353448],\n",
              "       [0.92391304, 0.56903766, 0.54237288, 0.9762931 ],\n",
              "       [0.7173913 , 0.30962343, 0.72669492, 0.43534483],\n",
              "       [1.        , 0.24476987, 0.78813559, 0.27586207],\n",
              "       [0.10652174, 0.75941423, 0.19279661, 0.00215517],\n",
              "       [0.45869565, 0.24686192, 0.68644068, 0.22413793],\n",
              "       [0.12391304, 0.74476987, 0.22457627, 0.26724138],\n",
              "       [0.81521739, 0.83472803, 0.14194915, 0.66810345],\n",
              "       [0.68043478, 0.80543933, 0.01271186, 0.90948276],\n",
              "       [0.87826087, 0.83054393, 0.        , 0.34482759],\n",
              "       [0.81304348, 1.        , 0.10805085, 0.46336207]])"
            ]
          },
          "metadata": {
            "tags": []
          },
          "execution_count": 19
        }
      ]
    },
    {
      "cell_type": "code",
      "metadata": {
        "id": "Ts-tFICzn8Ea",
        "colab_type": "code",
        "outputId": "8d7a7279-524d-43c9-9813-052bd5c2cfd7",
        "colab": {
          "base_uri": "https://localhost:8080/",
          "height": 669
        }
      },
      "source": [
        "import pandas as pd                                           #We have imported the pandas and created a DataFrame from the above feature_data\n",
        "df = pd.DataFrame(data=feature_data, columns=['k1', 'k2', 'k3', 'labels']\n",
        "df"
      ],
      "execution_count": 0,
      "outputs": [
        {
          "output_type": "execute_result",
          "data": {
            "text/html": [
              "<div>\n",
              "<style scoped>\n",
              "    .dataframe tbody tr th:only-of-type {\n",
              "        vertical-align: middle;\n",
              "    }\n",
              "\n",
              "    .dataframe tbody tr th {\n",
              "        vertical-align: top;\n",
              "    }\n",
              "\n",
              "    .dataframe thead th {\n",
              "        text-align: right;\n",
              "    }\n",
              "</style>\n",
              "<table border=\"1\" class=\"dataframe\">\n",
              "  <thead>\n",
              "    <tr style=\"text-align: right;\">\n",
              "      <th></th>\n",
              "      <th>k1</th>\n",
              "      <th>k2</th>\n",
              "      <th>k3</th>\n",
              "      <th>labels</th>\n",
              "    </tr>\n",
              "  </thead>\n",
              "  <tbody>\n",
              "    <tr>\n",
              "      <th>0</th>\n",
              "      <td>0.795652</td>\n",
              "      <td>0.244770</td>\n",
              "      <td>0.129237</td>\n",
              "      <td>0.560345</td>\n",
              "    </tr>\n",
              "    <tr>\n",
              "      <th>1</th>\n",
              "      <td>0.097826</td>\n",
              "      <td>0.100418</td>\n",
              "      <td>1.000000</td>\n",
              "      <td>1.000000</td>\n",
              "    </tr>\n",
              "    <tr>\n",
              "      <th>2</th>\n",
              "      <td>0.702174</td>\n",
              "      <td>0.755230</td>\n",
              "      <td>0.256356</td>\n",
              "      <td>0.551724</td>\n",
              "    </tr>\n",
              "    <tr>\n",
              "      <th>3</th>\n",
              "      <td>0.897826</td>\n",
              "      <td>0.700837</td>\n",
              "      <td>0.707627</td>\n",
              "      <td>0.909483</td>\n",
              "    </tr>\n",
              "    <tr>\n",
              "      <th>4</th>\n",
              "      <td>0.400000</td>\n",
              "      <td>0.255230</td>\n",
              "      <td>0.067797</td>\n",
              "      <td>0.000000</td>\n",
              "    </tr>\n",
              "    <tr>\n",
              "      <th>5</th>\n",
              "      <td>0.702174</td>\n",
              "      <td>0.516736</td>\n",
              "      <td>0.771186</td>\n",
              "      <td>0.463362</td>\n",
              "    </tr>\n",
              "    <tr>\n",
              "      <th>6</th>\n",
              "      <td>0.000000</td>\n",
              "      <td>0.117155</td>\n",
              "      <td>0.603814</td>\n",
              "      <td>0.881466</td>\n",
              "    </tr>\n",
              "    <tr>\n",
              "      <th>7</th>\n",
              "      <td>0.293478</td>\n",
              "      <td>0.000000</td>\n",
              "      <td>0.101695</td>\n",
              "      <td>0.618534</td>\n",
              "    </tr>\n",
              "    <tr>\n",
              "      <th>8</th>\n",
              "      <td>0.302174</td>\n",
              "      <td>0.033473</td>\n",
              "      <td>0.601695</td>\n",
              "      <td>0.038793</td>\n",
              "    </tr>\n",
              "    <tr>\n",
              "      <th>9</th>\n",
              "      <td>0.719565</td>\n",
              "      <td>0.953975</td>\n",
              "      <td>0.072034</td>\n",
              "      <td>0.243534</td>\n",
              "    </tr>\n",
              "    <tr>\n",
              "      <th>10</th>\n",
              "      <td>0.923913</td>\n",
              "      <td>0.569038</td>\n",
              "      <td>0.542373</td>\n",
              "      <td>0.976293</td>\n",
              "    </tr>\n",
              "    <tr>\n",
              "      <th>11</th>\n",
              "      <td>0.717391</td>\n",
              "      <td>0.309623</td>\n",
              "      <td>0.726695</td>\n",
              "      <td>0.435345</td>\n",
              "    </tr>\n",
              "    <tr>\n",
              "      <th>12</th>\n",
              "      <td>1.000000</td>\n",
              "      <td>0.244770</td>\n",
              "      <td>0.788136</td>\n",
              "      <td>0.275862</td>\n",
              "    </tr>\n",
              "    <tr>\n",
              "      <th>13</th>\n",
              "      <td>0.106522</td>\n",
              "      <td>0.759414</td>\n",
              "      <td>0.192797</td>\n",
              "      <td>0.002155</td>\n",
              "    </tr>\n",
              "    <tr>\n",
              "      <th>14</th>\n",
              "      <td>0.458696</td>\n",
              "      <td>0.246862</td>\n",
              "      <td>0.686441</td>\n",
              "      <td>0.224138</td>\n",
              "    </tr>\n",
              "    <tr>\n",
              "      <th>15</th>\n",
              "      <td>0.123913</td>\n",
              "      <td>0.744770</td>\n",
              "      <td>0.224576</td>\n",
              "      <td>0.267241</td>\n",
              "    </tr>\n",
              "    <tr>\n",
              "      <th>16</th>\n",
              "      <td>0.815217</td>\n",
              "      <td>0.834728</td>\n",
              "      <td>0.141949</td>\n",
              "      <td>0.668103</td>\n",
              "    </tr>\n",
              "    <tr>\n",
              "      <th>17</th>\n",
              "      <td>0.680435</td>\n",
              "      <td>0.805439</td>\n",
              "      <td>0.012712</td>\n",
              "      <td>0.909483</td>\n",
              "    </tr>\n",
              "    <tr>\n",
              "      <th>18</th>\n",
              "      <td>0.878261</td>\n",
              "      <td>0.830544</td>\n",
              "      <td>0.000000</td>\n",
              "      <td>0.344828</td>\n",
              "    </tr>\n",
              "    <tr>\n",
              "      <th>19</th>\n",
              "      <td>0.813043</td>\n",
              "      <td>1.000000</td>\n",
              "      <td>0.108051</td>\n",
              "      <td>0.463362</td>\n",
              "    </tr>\n",
              "  </tbody>\n",
              "</table>\n",
              "</div>"
            ],
            "text/plain": [
              "          k1        k2        k3    labels\n",
              "0   0.795652  0.244770  0.129237  0.560345\n",
              "1   0.097826  0.100418  1.000000  1.000000\n",
              "2   0.702174  0.755230  0.256356  0.551724\n",
              "3   0.897826  0.700837  0.707627  0.909483\n",
              "4   0.400000  0.255230  0.067797  0.000000\n",
              "5   0.702174  0.516736  0.771186  0.463362\n",
              "6   0.000000  0.117155  0.603814  0.881466\n",
              "7   0.293478  0.000000  0.101695  0.618534\n",
              "8   0.302174  0.033473  0.601695  0.038793\n",
              "9   0.719565  0.953975  0.072034  0.243534\n",
              "10  0.923913  0.569038  0.542373  0.976293\n",
              "11  0.717391  0.309623  0.726695  0.435345\n",
              "12  1.000000  0.244770  0.788136  0.275862\n",
              "13  0.106522  0.759414  0.192797  0.002155\n",
              "14  0.458696  0.246862  0.686441  0.224138\n",
              "15  0.123913  0.744770  0.224576  0.267241\n",
              "16  0.815217  0.834728  0.141949  0.668103\n",
              "17  0.680435  0.805439  0.012712  0.909483\n",
              "18  0.878261  0.830544  0.000000  0.344828\n",
              "19  0.813043  1.000000  0.108051  0.463362"
            ]
          },
          "metadata": {
            "tags": []
          },
          "execution_count": 20
        }
      ]
    },
    {
      "cell_type": "code",
      "metadata": {
        "id": "NMnLN3_qoxMp",
        "colab_type": "code",
        "outputId": "070b667a-9ea6-41e0-fa18-ffb06320167c",
        "colab": {
          "base_uri": "https://localhost:8080/",
          "height": 669
        }
      },
      "source": [
        "X = df[['k1', 'k2', 'k3']]\n",
        "y = df['labels']\n",
        "X\n"
      ],
      "execution_count": 0,
      "outputs": [
        {
          "output_type": "execute_result",
          "data": {
            "text/html": [
              "<div>\n",
              "<style scoped>\n",
              "    .dataframe tbody tr th:only-of-type {\n",
              "        vertical-align: middle;\n",
              "    }\n",
              "\n",
              "    .dataframe tbody tr th {\n",
              "        vertical-align: top;\n",
              "    }\n",
              "\n",
              "    .dataframe thead th {\n",
              "        text-align: right;\n",
              "    }\n",
              "</style>\n",
              "<table border=\"1\" class=\"dataframe\">\n",
              "  <thead>\n",
              "    <tr style=\"text-align: right;\">\n",
              "      <th></th>\n",
              "      <th>k1</th>\n",
              "      <th>k2</th>\n",
              "      <th>k3</th>\n",
              "    </tr>\n",
              "  </thead>\n",
              "  <tbody>\n",
              "    <tr>\n",
              "      <th>0</th>\n",
              "      <td>0.795652</td>\n",
              "      <td>0.244770</td>\n",
              "      <td>0.129237</td>\n",
              "    </tr>\n",
              "    <tr>\n",
              "      <th>1</th>\n",
              "      <td>0.097826</td>\n",
              "      <td>0.100418</td>\n",
              "      <td>1.000000</td>\n",
              "    </tr>\n",
              "    <tr>\n",
              "      <th>2</th>\n",
              "      <td>0.702174</td>\n",
              "      <td>0.755230</td>\n",
              "      <td>0.256356</td>\n",
              "    </tr>\n",
              "    <tr>\n",
              "      <th>3</th>\n",
              "      <td>0.897826</td>\n",
              "      <td>0.700837</td>\n",
              "      <td>0.707627</td>\n",
              "    </tr>\n",
              "    <tr>\n",
              "      <th>4</th>\n",
              "      <td>0.400000</td>\n",
              "      <td>0.255230</td>\n",
              "      <td>0.067797</td>\n",
              "    </tr>\n",
              "    <tr>\n",
              "      <th>5</th>\n",
              "      <td>0.702174</td>\n",
              "      <td>0.516736</td>\n",
              "      <td>0.771186</td>\n",
              "    </tr>\n",
              "    <tr>\n",
              "      <th>6</th>\n",
              "      <td>0.000000</td>\n",
              "      <td>0.117155</td>\n",
              "      <td>0.603814</td>\n",
              "    </tr>\n",
              "    <tr>\n",
              "      <th>7</th>\n",
              "      <td>0.293478</td>\n",
              "      <td>0.000000</td>\n",
              "      <td>0.101695</td>\n",
              "    </tr>\n",
              "    <tr>\n",
              "      <th>8</th>\n",
              "      <td>0.302174</td>\n",
              "      <td>0.033473</td>\n",
              "      <td>0.601695</td>\n",
              "    </tr>\n",
              "    <tr>\n",
              "      <th>9</th>\n",
              "      <td>0.719565</td>\n",
              "      <td>0.953975</td>\n",
              "      <td>0.072034</td>\n",
              "    </tr>\n",
              "    <tr>\n",
              "      <th>10</th>\n",
              "      <td>0.923913</td>\n",
              "      <td>0.569038</td>\n",
              "      <td>0.542373</td>\n",
              "    </tr>\n",
              "    <tr>\n",
              "      <th>11</th>\n",
              "      <td>0.717391</td>\n",
              "      <td>0.309623</td>\n",
              "      <td>0.726695</td>\n",
              "    </tr>\n",
              "    <tr>\n",
              "      <th>12</th>\n",
              "      <td>1.000000</td>\n",
              "      <td>0.244770</td>\n",
              "      <td>0.788136</td>\n",
              "    </tr>\n",
              "    <tr>\n",
              "      <th>13</th>\n",
              "      <td>0.106522</td>\n",
              "      <td>0.759414</td>\n",
              "      <td>0.192797</td>\n",
              "    </tr>\n",
              "    <tr>\n",
              "      <th>14</th>\n",
              "      <td>0.458696</td>\n",
              "      <td>0.246862</td>\n",
              "      <td>0.686441</td>\n",
              "    </tr>\n",
              "    <tr>\n",
              "      <th>15</th>\n",
              "      <td>0.123913</td>\n",
              "      <td>0.744770</td>\n",
              "      <td>0.224576</td>\n",
              "    </tr>\n",
              "    <tr>\n",
              "      <th>16</th>\n",
              "      <td>0.815217</td>\n",
              "      <td>0.834728</td>\n",
              "      <td>0.141949</td>\n",
              "    </tr>\n",
              "    <tr>\n",
              "      <th>17</th>\n",
              "      <td>0.680435</td>\n",
              "      <td>0.805439</td>\n",
              "      <td>0.012712</td>\n",
              "    </tr>\n",
              "    <tr>\n",
              "      <th>18</th>\n",
              "      <td>0.878261</td>\n",
              "      <td>0.830544</td>\n",
              "      <td>0.000000</td>\n",
              "    </tr>\n",
              "    <tr>\n",
              "      <th>19</th>\n",
              "      <td>0.813043</td>\n",
              "      <td>1.000000</td>\n",
              "      <td>0.108051</td>\n",
              "    </tr>\n",
              "  </tbody>\n",
              "</table>\n",
              "</div>"
            ],
            "text/plain": [
              "          k1        k2        k3\n",
              "0   0.795652  0.244770  0.129237\n",
              "1   0.097826  0.100418  1.000000\n",
              "2   0.702174  0.755230  0.256356\n",
              "3   0.897826  0.700837  0.707627\n",
              "4   0.400000  0.255230  0.067797\n",
              "5   0.702174  0.516736  0.771186\n",
              "6   0.000000  0.117155  0.603814\n",
              "7   0.293478  0.000000  0.101695\n",
              "8   0.302174  0.033473  0.601695\n",
              "9   0.719565  0.953975  0.072034\n",
              "10  0.923913  0.569038  0.542373\n",
              "11  0.717391  0.309623  0.726695\n",
              "12  1.000000  0.244770  0.788136\n",
              "13  0.106522  0.759414  0.192797\n",
              "14  0.458696  0.246862  0.686441\n",
              "15  0.123913  0.744770  0.224576\n",
              "16  0.815217  0.834728  0.141949\n",
              "17  0.680435  0.805439  0.012712\n",
              "18  0.878261  0.830544  0.000000\n",
              "19  0.813043  1.000000  0.108051"
            ]
          },
          "metadata": {
            "tags": []
          },
          "execution_count": 27
        }
      ]
    },
    {
      "cell_type": "code",
      "metadata": {
        "id": "E7WPPEFmpjGE",
        "colab_type": "code",
        "outputId": "e6a4aca8-9462-41a3-fa67-73d8e6926e9c",
        "colab": {
          "base_uri": "https://localhost:8080/",
          "height": 374
        }
      },
      "source": [
        "y"
      ],
      "execution_count": 0,
      "outputs": [
        {
          "output_type": "execute_result",
          "data": {
            "text/plain": [
              "0     0.560345\n",
              "1     1.000000\n",
              "2     0.551724\n",
              "3     0.909483\n",
              "4     0.000000\n",
              "5     0.463362\n",
              "6     0.881466\n",
              "7     0.618534\n",
              "8     0.038793\n",
              "9     0.243534\n",
              "10    0.976293\n",
              "11    0.435345\n",
              "12    0.275862\n",
              "13    0.002155\n",
              "14    0.224138\n",
              "15    0.267241\n",
              "16    0.668103\n",
              "17    0.909483\n",
              "18    0.344828\n",
              "19    0.463362\n",
              "Name: labels, dtype: float64"
            ]
          },
          "metadata": {
            "tags": []
          },
          "execution_count": 28
        }
      ]
    },
    {
      "cell_type": "code",
      "metadata": {
        "id": "k9cT19fYphTT",
        "colab_type": "code",
        "outputId": "1d6c5d6d-3a5e-4239-e8af-2ae61c998989",
        "colab": {
          "base_uri": "https://localhost:8080/",
          "height": 1000
        }
      },
      "source": [
        "from sklearn.datasets import load_iris\n",
        "iris=load_iris()\n",
        "iris.data"
      ],
      "execution_count": 0,
      "outputs": [
        {
          "output_type": "execute_result",
          "data": {
            "text/plain": [
              "array([[5.1, 3.5, 1.4, 0.2],\n",
              "       [4.9, 3. , 1.4, 0.2],\n",
              "       [4.7, 3.2, 1.3, 0.2],\n",
              "       [4.6, 3.1, 1.5, 0.2],\n",
              "       [5. , 3.6, 1.4, 0.2],\n",
              "       [5.4, 3.9, 1.7, 0.4],\n",
              "       [4.6, 3.4, 1.4, 0.3],\n",
              "       [5. , 3.4, 1.5, 0.2],\n",
              "       [4.4, 2.9, 1.4, 0.2],\n",
              "       [4.9, 3.1, 1.5, 0.1],\n",
              "       [5.4, 3.7, 1.5, 0.2],\n",
              "       [4.8, 3.4, 1.6, 0.2],\n",
              "       [4.8, 3. , 1.4, 0.1],\n",
              "       [4.3, 3. , 1.1, 0.1],\n",
              "       [5.8, 4. , 1.2, 0.2],\n",
              "       [5.7, 4.4, 1.5, 0.4],\n",
              "       [5.4, 3.9, 1.3, 0.4],\n",
              "       [5.1, 3.5, 1.4, 0.3],\n",
              "       [5.7, 3.8, 1.7, 0.3],\n",
              "       [5.1, 3.8, 1.5, 0.3],\n",
              "       [5.4, 3.4, 1.7, 0.2],\n",
              "       [5.1, 3.7, 1.5, 0.4],\n",
              "       [4.6, 3.6, 1. , 0.2],\n",
              "       [5.1, 3.3, 1.7, 0.5],\n",
              "       [4.8, 3.4, 1.9, 0.2],\n",
              "       [5. , 3. , 1.6, 0.2],\n",
              "       [5. , 3.4, 1.6, 0.4],\n",
              "       [5.2, 3.5, 1.5, 0.2],\n",
              "       [5.2, 3.4, 1.4, 0.2],\n",
              "       [4.7, 3.2, 1.6, 0.2],\n",
              "       [4.8, 3.1, 1.6, 0.2],\n",
              "       [5.4, 3.4, 1.5, 0.4],\n",
              "       [5.2, 4.1, 1.5, 0.1],\n",
              "       [5.5, 4.2, 1.4, 0.2],\n",
              "       [4.9, 3.1, 1.5, 0.2],\n",
              "       [5. , 3.2, 1.2, 0.2],\n",
              "       [5.5, 3.5, 1.3, 0.2],\n",
              "       [4.9, 3.6, 1.4, 0.1],\n",
              "       [4.4, 3. , 1.3, 0.2],\n",
              "       [5.1, 3.4, 1.5, 0.2],\n",
              "       [5. , 3.5, 1.3, 0.3],\n",
              "       [4.5, 2.3, 1.3, 0.3],\n",
              "       [4.4, 3.2, 1.3, 0.2],\n",
              "       [5. , 3.5, 1.6, 0.6],\n",
              "       [5.1, 3.8, 1.9, 0.4],\n",
              "       [4.8, 3. , 1.4, 0.3],\n",
              "       [5.1, 3.8, 1.6, 0.2],\n",
              "       [4.6, 3.2, 1.4, 0.2],\n",
              "       [5.3, 3.7, 1.5, 0.2],\n",
              "       [5. , 3.3, 1.4, 0.2],\n",
              "       [7. , 3.2, 4.7, 1.4],\n",
              "       [6.4, 3.2, 4.5, 1.5],\n",
              "       [6.9, 3.1, 4.9, 1.5],\n",
              "       [5.5, 2.3, 4. , 1.3],\n",
              "       [6.5, 2.8, 4.6, 1.5],\n",
              "       [5.7, 2.8, 4.5, 1.3],\n",
              "       [6.3, 3.3, 4.7, 1.6],\n",
              "       [4.9, 2.4, 3.3, 1. ],\n",
              "       [6.6, 2.9, 4.6, 1.3],\n",
              "       [5.2, 2.7, 3.9, 1.4],\n",
              "       [5. , 2. , 3.5, 1. ],\n",
              "       [5.9, 3. , 4.2, 1.5],\n",
              "       [6. , 2.2, 4. , 1. ],\n",
              "       [6.1, 2.9, 4.7, 1.4],\n",
              "       [5.6, 2.9, 3.6, 1.3],\n",
              "       [6.7, 3.1, 4.4, 1.4],\n",
              "       [5.6, 3. , 4.5, 1.5],\n",
              "       [5.8, 2.7, 4.1, 1. ],\n",
              "       [6.2, 2.2, 4.5, 1.5],\n",
              "       [5.6, 2.5, 3.9, 1.1],\n",
              "       [5.9, 3.2, 4.8, 1.8],\n",
              "       [6.1, 2.8, 4. , 1.3],\n",
              "       [6.3, 2.5, 4.9, 1.5],\n",
              "       [6.1, 2.8, 4.7, 1.2],\n",
              "       [6.4, 2.9, 4.3, 1.3],\n",
              "       [6.6, 3. , 4.4, 1.4],\n",
              "       [6.8, 2.8, 4.8, 1.4],\n",
              "       [6.7, 3. , 5. , 1.7],\n",
              "       [6. , 2.9, 4.5, 1.5],\n",
              "       [5.7, 2.6, 3.5, 1. ],\n",
              "       [5.5, 2.4, 3.8, 1.1],\n",
              "       [5.5, 2.4, 3.7, 1. ],\n",
              "       [5.8, 2.7, 3.9, 1.2],\n",
              "       [6. , 2.7, 5.1, 1.6],\n",
              "       [5.4, 3. , 4.5, 1.5],\n",
              "       [6. , 3.4, 4.5, 1.6],\n",
              "       [6.7, 3.1, 4.7, 1.5],\n",
              "       [6.3, 2.3, 4.4, 1.3],\n",
              "       [5.6, 3. , 4.1, 1.3],\n",
              "       [5.5, 2.5, 4. , 1.3],\n",
              "       [5.5, 2.6, 4.4, 1.2],\n",
              "       [6.1, 3. , 4.6, 1.4],\n",
              "       [5.8, 2.6, 4. , 1.2],\n",
              "       [5. , 2.3, 3.3, 1. ],\n",
              "       [5.6, 2.7, 4.2, 1.3],\n",
              "       [5.7, 3. , 4.2, 1.2],\n",
              "       [5.7, 2.9, 4.2, 1.3],\n",
              "       [6.2, 2.9, 4.3, 1.3],\n",
              "       [5.1, 2.5, 3. , 1.1],\n",
              "       [5.7, 2.8, 4.1, 1.3],\n",
              "       [6.3, 3.3, 6. , 2.5],\n",
              "       [5.8, 2.7, 5.1, 1.9],\n",
              "       [7.1, 3. , 5.9, 2.1],\n",
              "       [6.3, 2.9, 5.6, 1.8],\n",
              "       [6.5, 3. , 5.8, 2.2],\n",
              "       [7.6, 3. , 6.6, 2.1],\n",
              "       [4.9, 2.5, 4.5, 1.7],\n",
              "       [7.3, 2.9, 6.3, 1.8],\n",
              "       [6.7, 2.5, 5.8, 1.8],\n",
              "       [7.2, 3.6, 6.1, 2.5],\n",
              "       [6.5, 3.2, 5.1, 2. ],\n",
              "       [6.4, 2.7, 5.3, 1.9],\n",
              "       [6.8, 3. , 5.5, 2.1],\n",
              "       [5.7, 2.5, 5. , 2. ],\n",
              "       [5.8, 2.8, 5.1, 2.4],\n",
              "       [6.4, 3.2, 5.3, 2.3],\n",
              "       [6.5, 3. , 5.5, 1.8],\n",
              "       [7.7, 3.8, 6.7, 2.2],\n",
              "       [7.7, 2.6, 6.9, 2.3],\n",
              "       [6. , 2.2, 5. , 1.5],\n",
              "       [6.9, 3.2, 5.7, 2.3],\n",
              "       [5.6, 2.8, 4.9, 2. ],\n",
              "       [7.7, 2.8, 6.7, 2. ],\n",
              "       [6.3, 2.7, 4.9, 1.8],\n",
              "       [6.7, 3.3, 5.7, 2.1],\n",
              "       [7.2, 3.2, 6. , 1.8],\n",
              "       [6.2, 2.8, 4.8, 1.8],\n",
              "       [6.1, 3. , 4.9, 1.8],\n",
              "       [6.4, 2.8, 5.6, 2.1],\n",
              "       [7.2, 3. , 5.8, 1.6],\n",
              "       [7.4, 2.8, 6.1, 1.9],\n",
              "       [7.9, 3.8, 6.4, 2. ],\n",
              "       [6.4, 2.8, 5.6, 2.2],\n",
              "       [6.3, 2.8, 5.1, 1.5],\n",
              "       [6.1, 2.6, 5.6, 1.4],\n",
              "       [7.7, 3. , 6.1, 2.3],\n",
              "       [6.3, 3.4, 5.6, 2.4],\n",
              "       [6.4, 3.1, 5.5, 1.8],\n",
              "       [6. , 3. , 4.8, 1.8],\n",
              "       [6.9, 3.1, 5.4, 2.1],\n",
              "       [6.7, 3.1, 5.6, 2.4],\n",
              "       [6.9, 3.1, 5.1, 2.3],\n",
              "       [5.8, 2.7, 5.1, 1.9],\n",
              "       [6.8, 3.2, 5.9, 2.3],\n",
              "       [6.7, 3.3, 5.7, 2.5],\n",
              "       [6.7, 3. , 5.2, 2.3],\n",
              "       [6.3, 2.5, 5. , 1.9],\n",
              "       [6.5, 3. , 5.2, 2. ],\n",
              "       [6.2, 3.4, 5.4, 2.3],\n",
              "       [5.9, 3. , 5.1, 1.8]])"
            ]
          },
          "metadata": {
            "tags": []
          },
          "execution_count": 30
        }
      ]
    },
    {
      "cell_type": "code",
      "metadata": {
        "id": "ZYT1fzpOyxqD",
        "colab_type": "code",
        "outputId": "b0006903-d5c9-475d-ff3c-6a8bf544b1e6",
        "colab": {
          "base_uri": "https://localhost:8080/",
          "height": 34
        }
      },
      "source": [
        "print(iris.feature_names)"
      ],
      "execution_count": 0,
      "outputs": [
        {
          "output_type": "stream",
          "text": [
            "['sepal length (cm)', 'sepal width (cm)', 'petal length (cm)', 'petal width (cm)']\n"
          ],
          "name": "stdout"
        }
      ]
    },
    {
      "cell_type": "code",
      "metadata": {
        "id": "Hnq1gdWAzSAO",
        "colab_type": "code",
        "outputId": "09c10ba6-a63c-486e-988b-a56d22562c42",
        "colab": {
          "base_uri": "https://localhost:8080/",
          "height": 102
        }
      },
      "source": [
        "print(iris.target)   # integer represents the species ,0=setosa ,1=versicolor ,2=virginica"
      ],
      "execution_count": 0,
      "outputs": [
        {
          "output_type": "stream",
          "text": [
            "[0 0 0 0 0 0 0 0 0 0 0 0 0 0 0 0 0 0 0 0 0 0 0 0 0 0 0 0 0 0 0 0 0 0 0 0 0\n",
            " 0 0 0 0 0 0 0 0 0 0 0 0 0 1 1 1 1 1 1 1 1 1 1 1 1 1 1 1 1 1 1 1 1 1 1 1 1\n",
            " 1 1 1 1 1 1 1 1 1 1 1 1 1 1 1 1 1 1 1 1 1 1 1 1 1 1 2 2 2 2 2 2 2 2 2 2 2\n",
            " 2 2 2 2 2 2 2 2 2 2 2 2 2 2 2 2 2 2 2 2 2 2 2 2 2 2 2 2 2 2 2 2 2 2 2 2 2\n",
            " 2 2]\n"
          ],
          "name": "stdout"
        }
      ]
    },
    {
      "cell_type": "code",
      "metadata": {
        "id": "ji7dCLOxz9Y-",
        "colab_type": "code",
        "outputId": "007b45ee-5c42-4749-ba02-0d39dbdac659",
        "colab": {
          "base_uri": "https://localhost:8080/",
          "height": 34
        }
      },
      "source": [
        "print(iris.target_names)"
      ],
      "execution_count": 0,
      "outputs": [
        {
          "output_type": "stream",
          "text": [
            "['setosa' 'versicolor' 'virginica']\n"
          ],
          "name": "stdout"
        }
      ]
    },
    {
      "cell_type": "code",
      "metadata": {
        "id": "ZgS0sztK0G2a",
        "colab_type": "code",
        "outputId": "c9a6c097-79b2-439d-d926-261ce98c54c9",
        "colab": {
          "base_uri": "https://localhost:8080/",
          "height": 51
        }
      },
      "source": [
        "print(type(iris.data))\n",
        "print(type(iris.target))"
      ],
      "execution_count": 0,
      "outputs": [
        {
          "output_type": "stream",
          "text": [
            "<class 'numpy.ndarray'>\n",
            "<class 'numpy.ndarray'>\n"
          ],
          "name": "stdout"
        }
      ]
    },
    {
      "cell_type": "code",
      "metadata": {
        "id": "CS6bKnsQ0bf1",
        "colab_type": "code",
        "outputId": "f8958d66-6841-45d7-8924-76c4e72779fb",
        "colab": {
          "base_uri": "https://localhost:8080/",
          "height": 34
        }
      },
      "source": [
        "print(iris.data.shape)"
      ],
      "execution_count": 0,
      "outputs": [
        {
          "output_type": "stream",
          "text": [
            "(150, 4)\n"
          ],
          "name": "stdout"
        }
      ]
    },
    {
      "cell_type": "code",
      "metadata": {
        "id": "2nY1IilL0yHX",
        "colab_type": "code",
        "outputId": "f7ee32df-764b-42aa-8b20-394af6d3aa78",
        "colab": {
          "base_uri": "https://localhost:8080/",
          "height": 51
        }
      },
      "source": [
        "\n",
        "from sklearn.model_selection import train_test_split\n",
        "X_train,X_test,y_train,y_test=train_test_split(X,y,test_size=0.2,random_state=4)\n",
        "print(X_train.shape)\n",
        "print(X_test.size)\n",
        "#print(y_train.shape)\n",
        "#print(y_train.size)"
      ],
      "execution_count": 0,
      "outputs": [
        {
          "output_type": "stream",
          "text": [
            "(16, 3)\n",
            "12\n"
          ],
          "name": "stdout"
        }
      ]
    },
    {
      "cell_type": "code",
      "metadata": {
        "id": "dsko1OnBCdit",
        "colab_type": "code",
        "outputId": "7cc52714-4006-4d3b-84f5-532ec379e11e",
        "colab": {
          "base_uri": "https://localhost:8080/",
          "height": 51
        }
      },
      "source": [
        "print(y_train.shape)\n",
        "print(y_train.size)"
      ],
      "execution_count": 0,
      "outputs": [
        {
          "output_type": "stream",
          "text": [
            "(16,)\n",
            "16\n"
          ],
          "name": "stdout"
        }
      ]
    },
    {
      "cell_type": "code",
      "metadata": {
        "id": "q0Pb4W6K7hb6",
        "colab_type": "code",
        "colab": {}
      },
      "source": [
        "from sklearn.neighbors import KNeighborsClassifier\n",
        "from sklearn import metrics\n",
        "k_range = range(26,26)\n",
        "scores = { }\n",
        "scores_list = []\n",
        "for k in k_range:\n",
        "        knn = KNeighborsClassifier(n_neighbors=k)\n",
        "        knn.fit(X_train,y_train)\n",
        "        y_pred=knn.predict(X_test)\n",
        "        scores[k]= metrics.accuracy_score(y_test,y_pred)\n",
        "        #scores_list.append(metrics.accuracy_score(y_test,y_pred))\n",
        "         # scores\n",
        "  "
      ],
      "execution_count": 0,
      "outputs": []
    },
    {
      "cell_type": "code",
      "metadata": {
        "id": "MVubFYiEJUBv",
        "colab_type": "code",
        "outputId": "d160981d-7c23-4ed4-ae08-59ec8517ea25",
        "colab": {
          "base_uri": "https://localhost:8080/",
          "height": 34
        }
      },
      "source": [
        "scores"
      ],
      "execution_count": 139,
      "outputs": [
        {
          "output_type": "execute_result",
          "data": {
            "text/plain": [
              "{}"
            ]
          },
          "metadata": {
            "tags": []
          },
          "execution_count": 139
        }
      ]
    },
    {
      "cell_type": "code",
      "metadata": {
        "id": "IAn-5MoVG6kG",
        "colab_type": "code",
        "outputId": "ec57badc-a4d9-4cb3-96e7-e015d7c0efb0",
        "colab": {
          "base_uri": "https://localhost:8080/",
          "height": 300
        }
      },
      "source": [
        "%matplotlib inline\n",
        "import matplotlib.pyplot as plt\n",
        "plt.plot(k_range,scores_list)\n",
        "plt.xlabel('value of k for knn')\n",
        "plt.ylabel('accuracy')"
      ],
      "execution_count": 0,
      "outputs": [
        {
          "output_type": "execute_result",
          "data": {
            "text/plain": [
              "Text(0, 0.5, 'accuracy')"
            ]
          },
          "metadata": {
            "tags": []
          },
          "execution_count": 97
        },
        {
          "output_type": "display_data",
          "data": {
            "image/png": "[encoded data removed]",
            "text/plain": [
              "<Figure size 432x288 with 1 Axes>"
            ]
          },
          "metadata": {
            "tags": []
          }
        }
      ]
    }
  ]
}