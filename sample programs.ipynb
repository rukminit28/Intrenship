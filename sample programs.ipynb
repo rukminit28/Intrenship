{
  "nbformat": 4,
  "nbformat_minor": 0,
  "metadata": {
    "colab": {
      "name": "Untitled4.ipynb",
      "version": "0.3.2",
      "provenance": [],
      "include_colab_link": true
    },
    "kernelspec": {
      "name": "python3",
      "display_name": "Python 3"
    }
  },
  "cells": [
    {
      "cell_type": "markdown",
      "metadata": {
        "id": "view-in-github",
        "colab_type": "text"
      },
      "source": [
        "<a href=\"https://colab.research.google.com/github/rukminit28/Intrenship/blob/master/sample%20programs.ipynb\" target=\"_parent\"><img src=\"https://colab.research.google.com/assets/colab-badge.svg\" alt=\"Open In Colab\"/></a>"
      ]
    },
    {
      "cell_type": "code",
      "metadata": {
        "id": "NBUcd0AdfhVa",
        "colab_type": "code",
        "outputId": "8093f370-78de-4632-a6c1-ad5e5c04f790",
        "colab": {
          "base_uri": "https://localhost:8080/",
          "height": 170
        }
      },
      "source": [
        "def is_prime(n):\n",
        "  for i in range(2,n):\n",
        "    if n%i==0:\n",
        "      return False\n",
        "  return True\n",
        "\n",
        "n=input(\"enter a number\")\n",
        "for x in range(2,int(n)):\n",
        "  if is_prime(x):\n",
        "    print(x,\"is prime\")\n",
        "  else:\n",
        "    print(x,\"is not prime\")\n",
        "    "
      ],
      "execution_count": 0,
      "outputs": [
        {
          "output_type": "stream",
          "text": [
            "enter a number10\n",
            "2 is prime\n",
            "3 is prime\n",
            "4 is not prime\n",
            "5 is prime\n",
            "6 is not prime\n",
            "7 is prime\n",
            "8 is not prime\n",
            "9 is not prime\n"
          ],
          "name": "stdout"
        }
      ]
    },
    {
      "cell_type": "code",
      "metadata": {
        "id": "ZRDww3HlnoiH",
        "colab_type": "code",
        "outputId": "3e26fa83-98ce-477b-b65e-ac3a06e6b6a6",
        "colab": {
          "base_uri": "https://localhost:8080/",
          "height": 51
        }
      },
      "source": [
        "num=int(input(\"enter the number\"))\n",
        "if num>1:\n",
        "  for i in range(2,num):\n",
        "    if(num%i)==0:\n",
        "      print(\"not prime\")\n",
        "  else:\n",
        "      print(\"is prime\")"
      ],
      "execution_count": 0,
      "outputs": [
        {
          "output_type": "stream",
          "text": [
            "enter the number23\n",
            "is prime\n"
          ],
          "name": "stdout"
        }
      ]
    },
    {
      "cell_type": "code",
      "metadata": {
        "id": "5nYZNVqhyhL6",
        "colab_type": "code",
        "colab": {
          "base_uri": "https://localhost:8080/",
          "height": 34
        },
        "outputId": "8ccaf7f3-1ceb-4326-e12b-c53c1e4f6664"
      },
      "source": [
        "start, end =1,100\n",
        "for num in range(start,end+1):\n",
        "  if num % 2==0:\n",
        "    print(num,end=\" \")"
      ],
      "execution_count": 85,
      "outputs": [
        {
          "output_type": "stream",
          "text": [
            "2 4 6 8 10 12 14 16 18 20 22 24 26 28 30 32 34 36 38 40 42 44 46 48 50 52 54 56 58 60 62 64 66 68 70 72 74 76 78 80 82 84 86 88 90 92 94 96 98 100 "
          ],
          "name": "stdout"
        }
      ]
    },
    {
      "cell_type": "code",
      "metadata": {
        "id": "O8nJOtj9zeM6",
        "colab_type": "code",
        "colab": {}
      },
      "source": [
        "def is_even(n):\n",
        "  for i in range(1,100):\n",
        "    if i%2==0:\n",
        "      print(\"i\")\n",
        "    \n",
        "   "
      ],
      "execution_count": 0,
      "outputs": []
    },
    {
      "cell_type": "code",
      "metadata": {
        "id": "gGSaFsUu2ud3",
        "colab_type": "code",
        "colab": {
          "base_uri": "https://localhost:8080/",
          "height": 51
        },
        "outputId": "274e165f-a0f5-4c27-c641-87995b8b6206"
      },
      "source": [
        "list=[1,2,3,4,5,6,7,8,9,10]\n",
        "print(\"string:\" +str(list))\n",
        "res=[list[i] for i in range(len(list)) if i%2!=0]\n",
        "print(\" the alternative element: \" +str(res))\n"
      ],
      "execution_count": 3,
      "outputs": [
        {
          "output_type": "stream",
          "text": [
            "string:[1, 2, 3, 4, 5, 6, 7, 8, 9, 10]\n",
            " the alternative element: [2, 4, 6, 8, 10]\n"
          ],
          "name": "stdout"
        }
      ]
    }
  ]
}